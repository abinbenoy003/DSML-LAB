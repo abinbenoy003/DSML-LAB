{
 "cells": [
  {
   "cell_type": "code",
   "execution_count": 1,
   "id": "1fee09a4",
   "metadata": {},
   "outputs": [
    {
     "name": "stdout",
     "output_type": "stream",
     "text": [
      "Defaulting to user installation because normal site-packages is not writeable\n",
      "Requirement already satisfied: scikit-learn in /opt/anaconda3/lib/python3.9/site-packages (1.0.2)\n",
      "Requirement already satisfied: joblib>=0.11 in /opt/anaconda3/lib/python3.9/site-packages (from scikit-learn) (1.1.0)\n",
      "Requirement already satisfied: numpy>=1.14.6 in /opt/anaconda3/lib/python3.9/site-packages (from scikit-learn) (1.21.5)\n",
      "Requirement already satisfied: threadpoolctl>=2.0.0 in /opt/anaconda3/lib/python3.9/site-packages (from scikit-learn) (2.2.0)\n",
      "Requirement already satisfied: scipy>=1.1.0 in /opt/anaconda3/lib/python3.9/site-packages (from scikit-learn) (1.7.3)\n"
     ]
    }
   ],
   "source": [
    "import numpy as np\n",
    "import pandas as pd\n",
    "!pip install scikit-learn"
   ]
  },
  {
   "cell_type": "code",
   "execution_count": 2,
   "id": "5e63e0d9",
   "metadata": {},
   "outputs": [
    {
     "name": "stdout",
     "output_type": "stream",
     "text": [
      "           id diagnosis  radius_mean  texture_mean  perimeter_mean  area_mean  \\\n",
      "0      842302         M        17.99         10.38          122.80     1001.0   \n",
      "1      842517         M        20.57         17.77          132.90     1326.0   \n",
      "2    84300903         M        19.69         21.25          130.00     1203.0   \n",
      "3    84348301         M        11.42         20.38           77.58      386.1   \n",
      "4    84358402         M        20.29         14.34          135.10     1297.0   \n",
      "..        ...       ...          ...           ...             ...        ...   \n",
      "564    926424         M        21.56         22.39          142.00     1479.0   \n",
      "565    926682         M        20.13         28.25          131.20     1261.0   \n",
      "566    926954         M        16.60         28.08          108.30      858.1   \n",
      "567    927241         M        20.60         29.33          140.10     1265.0   \n",
      "568     92751         B         7.76         24.54           47.92      181.0   \n",
      "\n",
      "     smoothness_mean  compactness_mean  concavity_mean  concave points_mean  \\\n",
      "0            0.11840           0.27760         0.30010              0.14710   \n",
      "1            0.08474           0.07864         0.08690              0.07017   \n",
      "2            0.10960           0.15990         0.19740              0.12790   \n",
      "3            0.14250           0.28390         0.24140              0.10520   \n",
      "4            0.10030           0.13280         0.19800              0.10430   \n",
      "..               ...               ...             ...                  ...   \n",
      "564          0.11100           0.11590         0.24390              0.13890   \n",
      "565          0.09780           0.10340         0.14400              0.09791   \n",
      "566          0.08455           0.10230         0.09251              0.05302   \n",
      "567          0.11780           0.27700         0.35140              0.15200   \n",
      "568          0.05263           0.04362         0.00000              0.00000   \n",
      "\n",
      "     ...  texture_worst  perimeter_worst  area_worst  smoothness_worst  \\\n",
      "0    ...          17.33           184.60      2019.0           0.16220   \n",
      "1    ...          23.41           158.80      1956.0           0.12380   \n",
      "2    ...          25.53           152.50      1709.0           0.14440   \n",
      "3    ...          26.50            98.87       567.7           0.20980   \n",
      "4    ...          16.67           152.20      1575.0           0.13740   \n",
      "..   ...            ...              ...         ...               ...   \n",
      "564  ...          26.40           166.10      2027.0           0.14100   \n",
      "565  ...          38.25           155.00      1731.0           0.11660   \n",
      "566  ...          34.12           126.70      1124.0           0.11390   \n",
      "567  ...          39.42           184.60      1821.0           0.16500   \n",
      "568  ...          30.37            59.16       268.6           0.08996   \n",
      "\n",
      "     compactness_worst  concavity_worst  concave points_worst  symmetry_worst  \\\n",
      "0              0.66560           0.7119                0.2654          0.4601   \n",
      "1              0.18660           0.2416                0.1860          0.2750   \n",
      "2              0.42450           0.4504                0.2430          0.3613   \n",
      "3              0.86630           0.6869                0.2575          0.6638   \n",
      "4              0.20500           0.4000                0.1625          0.2364   \n",
      "..                 ...              ...                   ...             ...   \n",
      "564            0.21130           0.4107                0.2216          0.2060   \n",
      "565            0.19220           0.3215                0.1628          0.2572   \n",
      "566            0.30940           0.3403                0.1418          0.2218   \n",
      "567            0.86810           0.9387                0.2650          0.4087   \n",
      "568            0.06444           0.0000                0.0000          0.2871   \n",
      "\n",
      "     fractal_dimension_worst  Unnamed: 32  \n",
      "0                    0.11890          NaN  \n",
      "1                    0.08902          NaN  \n",
      "2                    0.08758          NaN  \n",
      "3                    0.17300          NaN  \n",
      "4                    0.07678          NaN  \n",
      "..                       ...          ...  \n",
      "564                  0.07115          NaN  \n",
      "565                  0.06637          NaN  \n",
      "566                  0.07820          NaN  \n",
      "567                  0.12400          NaN  \n",
      "568                  0.07039          NaN  \n",
      "\n",
      "[569 rows x 33 columns]\n"
     ]
    },
    {
     "data": {
      "text/plain": [
       "(569, 33)"
      ]
     },
     "execution_count": 2,
     "metadata": {},
     "output_type": "execute_result"
    }
   ],
   "source": [
    "#BREAST_CANCER DATASET\n",
    "\n",
    "#LOADING DATASET\n",
    "df=pd.read_csv('/home/student/Documents/DSML ABIN/Sample Files/BreastCancer.csv')\n",
    "print(df)\n",
    "df.shape"
   ]
  },
  {
   "cell_type": "code",
   "execution_count": 3,
   "id": "c3db5c18",
   "metadata": {},
   "outputs": [
    {
     "name": "stdout",
     "output_type": "stream",
     "text": [
      "Index(['id', 'diagnosis', 'radius_mean', 'texture_mean', 'perimeter_mean',\n",
      "       'area_mean', 'smoothness_mean', 'compactness_mean', 'concavity_mean',\n",
      "       'concave points_mean', 'symmetry_mean', 'fractal_dimension_mean',\n",
      "       'radius_se', 'texture_se', 'perimeter_se', 'area_se', 'smoothness_se',\n",
      "       'compactness_se', 'concavity_se', 'concave points_se', 'symmetry_se',\n",
      "       'fractal_dimension_se', 'radius_worst', 'texture_worst',\n",
      "       'perimeter_worst', 'area_worst', 'smoothness_worst',\n",
      "       'compactness_worst', 'concavity_worst', 'concave points_worst',\n",
      "       'symmetry_worst', 'fractal_dimension_worst', 'Unnamed: 32'],\n",
      "      dtype='object')\n"
     ]
    },
    {
     "data": {
      "text/plain": [
       "diagnosis\n",
       "B    357\n",
       "M    212\n",
       "dtype: int64"
      ]
     },
     "execution_count": 3,
     "metadata": {},
     "output_type": "execute_result"
    }
   ],
   "source": [
    "column=df.columns\n",
    "print(column)\n",
    "df.value_counts('diagnosis')"
   ]
  },
  {
   "cell_type": "code",
   "execution_count": 4,
   "id": "29a01778",
   "metadata": {},
   "outputs": [
    {
     "name": "stdout",
     "output_type": "stream",
     "text": [
      "Index(['radius_mean', 'texture_mean', 'perimeter_mean', 'area_mean',\n",
      "       'smoothness_mean', 'compactness_mean', 'concavity_mean',\n",
      "       'concave points_mean', 'symmetry_mean', 'fractal_dimension_mean',\n",
      "       'radius_se', 'texture_se', 'perimeter_se', 'area_se', 'smoothness_se',\n",
      "       'compactness_se', 'concavity_se', 'concave points_se', 'symmetry_se',\n",
      "       'fractal_dimension_se', 'radius_worst', 'texture_worst',\n",
      "       'perimeter_worst', 'area_worst', 'smoothness_worst',\n",
      "       'compactness_worst', 'concavity_worst', 'concave points_worst',\n",
      "       'symmetry_worst', 'fractal_dimension_worst'],\n",
      "      dtype='object')\n"
     ]
    }
   ],
   "source": [
    "###DATA_PREPROCESSING\n",
    "#Step 2: Seperating the dependent and independent variable\n",
    "y=df['diagnosis']\n",
    "\n",
    "df.drop('diagnosis',axis=1,inplace=True)\n",
    "\n",
    "#Step 3:Removing unimportant features and features with values NULL\n",
    "df.drop('Unnamed: 32',axis=1,inplace=True)\n",
    "df.drop('id',axis=1,inplace=True)\n",
    "cols=df.columns\n",
    "print(cols)\n",
    "\n",
    "\n",
    "x=df  ##Independent variables"
   ]
  },
  {
   "cell_type": "code",
   "execution_count": 5,
   "id": "fa4658a3",
   "metadata": {},
   "outputs": [],
   "source": [
    "#Step 4: Splitting the data into training and test data\n",
    "\n",
    "from sklearn.model_selection import train_test_split\n",
    "x_train, x_test, y_train, y_test = train_test_split(x, y, test_size = 0.2, random_state = 1)"
   ]
  },
  {
   "cell_type": "code",
   "execution_count": 6,
   "id": "de105a97",
   "metadata": {},
   "outputs": [
    {
     "name": "stdout",
     "output_type": "stream",
     "text": [
      "     radius_mean  texture_mean  perimeter_mean  area_mean  smoothness_mean  \\\n",
      "408        17.99         20.66          117.80      991.7          0.10360   \n",
      "4          20.29         14.34          135.10     1297.0          0.10030   \n",
      "307         9.00         14.40           56.36      246.3          0.07005   \n",
      "386        12.21         14.09           78.78      462.0          0.08108   \n",
      "404        12.34         14.95           78.29      469.1          0.08682   \n",
      "..           ...           ...             ...        ...              ...   \n",
      "129        19.79         25.12          130.40     1192.0          0.10150   \n",
      "144        10.75         14.97           68.26      355.3          0.07793   \n",
      "72         17.20         24.52          114.20      929.4          0.10710   \n",
      "235        14.03         21.25           89.79      603.4          0.09070   \n",
      "37         13.03         18.42           82.61      523.8          0.08983   \n",
      "\n",
      "     compactness_mean  concavity_mean  concave points_mean  symmetry_mean  \\\n",
      "408           0.13040        0.120100             0.088240         0.1992   \n",
      "4             0.13280        0.198000             0.104300         0.1809   \n",
      "307           0.03116        0.003681             0.003472         0.1788   \n",
      "386           0.07823        0.068390             0.025340         0.1646   \n",
      "404           0.04571        0.021090             0.020540         0.1571   \n",
      "..                ...             ...                  ...            ...   \n",
      "129           0.15890        0.254500             0.114900         0.2202   \n",
      "144           0.05139        0.022510             0.007875         0.1399   \n",
      "72            0.18300        0.169200             0.079440         0.1927   \n",
      "235           0.06945        0.014620             0.018960         0.1517   \n",
      "37            0.03766        0.025620             0.029230         0.1467   \n",
      "\n",
      "     fractal_dimension_mean  ...  radius_worst  texture_worst  \\\n",
      "408                 0.06069  ...        21.080          25.41   \n",
      "4                   0.05883  ...        22.540          16.67   \n",
      "307                 0.06833  ...         9.699          20.07   \n",
      "386                 0.06154  ...        13.130          19.29   \n",
      "404                 0.05708  ...        13.180          16.85   \n",
      "..                      ...  ...           ...            ...   \n",
      "129                 0.06113  ...        22.630          33.58   \n",
      "144                 0.05688  ...        11.950          20.72   \n",
      "72                  0.06487  ...        23.320          33.82   \n",
      "235                 0.05835  ...        15.330          30.28   \n",
      "37                  0.05863  ...        13.300          22.81   \n",
      "\n",
      "     perimeter_worst  area_worst  smoothness_worst  compactness_worst  \\\n",
      "408           138.10      1349.0           0.14820            0.37350   \n",
      "4             152.20      1575.0           0.13740            0.20500   \n",
      "307            60.90       285.5           0.09861            0.05232   \n",
      "386            87.65       529.9           0.10260            0.24310   \n",
      "404            84.11       533.1           0.10480            0.06744   \n",
      "..               ...         ...               ...                ...   \n",
      "129           148.70      1589.0           0.12750            0.38610   \n",
      "144            77.79       441.2           0.10760            0.12230   \n",
      "72            151.60      1681.0           0.15850            0.73940   \n",
      "235            98.27       715.5           0.12870            0.15130   \n",
      "37             84.46       545.9           0.09701            0.04619   \n",
      "\n",
      "     concavity_worst  concave points_worst  symmetry_worst  \\\n",
      "408          0.33010               0.19740          0.3060   \n",
      "4            0.40000               0.16250          0.2364   \n",
      "307          0.01472               0.01389          0.2991   \n",
      "386          0.30760               0.09140          0.2677   \n",
      "404          0.04921               0.04793          0.2298   \n",
      "..               ...                   ...             ...   \n",
      "129          0.56730               0.17320          0.3305   \n",
      "144          0.09755               0.03413          0.2300   \n",
      "72           0.65660               0.18990          0.3313   \n",
      "235          0.06231               0.07963          0.2226   \n",
      "37           0.04833               0.05013          0.1987   \n",
      "\n",
      "     fractal_dimension_worst  \n",
      "408                  0.08503  \n",
      "4                    0.07678  \n",
      "307                  0.07804  \n",
      "386                  0.08824  \n",
      "404                  0.05974  \n",
      "..                       ...  \n",
      "129                  0.08465  \n",
      "144                  0.06769  \n",
      "72                   0.13390  \n",
      "235                  0.07617  \n",
      "37                   0.06169  \n",
      "\n",
      "[455 rows x 30 columns]\n"
     ]
    }
   ],
   "source": [
    "print(x_train)"
   ]
  },
  {
   "cell_type": "code",
   "execution_count": 7,
   "id": "cb779efa",
   "metadata": {},
   "outputs": [
    {
     "name": "stdout",
     "output_type": "stream",
     "text": [
      "     radius_mean  texture_mean  perimeter_mean  area_mean  smoothness_mean  \\\n",
      "421       14.690         13.98           98.22      656.1          0.10310   \n",
      "47        13.170         18.66           85.98      534.6          0.11580   \n",
      "292       12.950         16.02           83.14      513.7          0.10050   \n",
      "186       18.310         18.58          118.60     1041.0          0.08588   \n",
      "414       15.130         29.81           96.71      719.5          0.08320   \n",
      "..           ...           ...             ...        ...              ...   \n",
      "172       15.460         11.89          102.50      736.9          0.12570   \n",
      "3         11.420         20.38           77.58      386.1          0.14250   \n",
      "68         9.029         17.33           58.79      250.5          0.10660   \n",
      "448       14.530         19.34           94.25      659.7          0.08388   \n",
      "442       13.780         15.79           88.37      585.9          0.08817   \n",
      "\n",
      "     compactness_mean  concavity_mean  concave points_mean  symmetry_mean  \\\n",
      "421           0.18360         0.14500             0.063000         0.2086   \n",
      "47            0.12310         0.12260             0.073400         0.2128   \n",
      "292           0.07943         0.06155             0.033700         0.1730   \n",
      "186           0.08468         0.08169             0.058140         0.1621   \n",
      "414           0.04605         0.04686             0.027390         0.1852   \n",
      "..                ...             ...                  ...            ...   \n",
      "172           0.15550         0.20320             0.109700         0.1966   \n",
      "3             0.28390         0.24140             0.105200         0.2597   \n",
      "68            0.14130         0.31300             0.043750         0.2111   \n",
      "448           0.07800         0.08817             0.029250         0.1473   \n",
      "442           0.06718         0.01055             0.009937         0.1405   \n",
      "\n",
      "     fractal_dimension_mean  ...  radius_worst  texture_worst  \\\n",
      "421                 0.07406  ...         16.46          18.34   \n",
      "47                  0.06777  ...         15.67          27.95   \n",
      "292                 0.06470  ...         13.74          19.93   \n",
      "186                 0.05425  ...         21.31          26.36   \n",
      "414                 0.05294  ...         17.26          36.91   \n",
      "..                      ...  ...           ...            ...   \n",
      "172                 0.07069  ...         18.79          17.04   \n",
      "3                   0.09744  ...         14.91          26.50   \n",
      "68                  0.08046  ...         10.31          22.65   \n",
      "448                 0.05746  ...         16.30          28.39   \n",
      "442                 0.05848  ...         15.27          17.50   \n",
      "\n",
      "     perimeter_worst  area_worst  smoothness_worst  compactness_worst  \\\n",
      "421           114.10       809.2            0.1312            0.36350   \n",
      "47            102.80       759.4            0.1786            0.41660   \n",
      "292            88.81       585.4            0.1483            0.20680   \n",
      "186           139.20      1410.0            0.1234            0.24450   \n",
      "414           110.10       931.4            0.1148            0.09866   \n",
      "..               ...         ...               ...                ...   \n",
      "172           125.00      1102.0            0.1531            0.35830   \n",
      "3              98.87       567.7            0.2098            0.86630   \n",
      "68             65.50       324.7            0.1482            0.43650   \n",
      "448           108.10       830.5            0.1089            0.26490   \n",
      "442            97.90       706.6            0.1072            0.10710   \n",
      "\n",
      "     concavity_worst  concave points_worst  symmetry_worst  \\\n",
      "421          0.32190               0.11080          0.2827   \n",
      "47           0.50060               0.20880          0.3900   \n",
      "292          0.22410               0.10560          0.3380   \n",
      "186          0.35380               0.15710          0.3206   \n",
      "414          0.15470               0.06575          0.3233   \n",
      "..               ...                   ...             ...   \n",
      "172          0.58300               0.18270          0.3216   \n",
      "3            0.68690               0.25750          0.6638   \n",
      "68           1.25200               0.17500          0.4228   \n",
      "448          0.37790               0.09594          0.2471   \n",
      "442          0.03517               0.03312          0.1859   \n",
      "\n",
      "     fractal_dimension_worst  \n",
      "421                  0.09208  \n",
      "47                   0.11790  \n",
      "292                  0.09584  \n",
      "186                  0.06938  \n",
      "414                  0.06165  \n",
      "..                       ...  \n",
      "172                  0.10100  \n",
      "3                    0.17300  \n",
      "68                   0.11750  \n",
      "448                  0.07463  \n",
      "442                  0.06810  \n",
      "\n",
      "[114 rows x 30 columns]\n"
     ]
    }
   ],
   "source": [
    "print(x_test)"
   ]
  },
  {
   "cell_type": "code",
   "execution_count": 10,
   "id": "5cfbd0fa",
   "metadata": {},
   "outputs": [
    {
     "name": "stdout",
     "output_type": "stream",
     "text": [
      "[[0.52103744 0.37030774 0.51143667 ... 0.67835052 0.35503802 0.31930614]\n",
      " [0.62989256 0.15657761 0.63098611 ... 0.55841924 0.18963878 0.23096691]\n",
      " [0.09555587 0.1586067  0.08686338 ... 0.04773196 0.33864068 0.24445872]\n",
      " ...\n",
      " [0.48364807 0.50084545 0.48655933 ... 0.65257732 0.4151616  0.84259557]\n",
      " [0.3336173  0.3902604  0.31787713 ... 0.27364261 0.15684411 0.22443516]\n",
      " [0.28628899 0.29455529 0.26826066 ... 0.17226804 0.10004753 0.06938644]]\n"
     ]
    }
   ],
   "source": [
    "#Step 5: Feature scaling(MINMAX Scaler)\n",
    "from sklearn.preprocessing import MinMaxScaler\n",
    "st_x=MinMaxScaler()\n",
    "x_train=st_x.fit_transform(x_train)\n",
    "x_test=st_x.fit_transform(x_test)\n",
    "print(x_train)"
   ]
  },
  {
   "cell_type": "code",
   "execution_count": 11,
   "id": "f912cdc1",
   "metadata": {},
   "outputs": [
    {
     "data": {
      "text/plain": [
       "KNeighborsClassifier()"
      ]
     },
     "execution_count": 11,
     "metadata": {},
     "output_type": "execute_result"
    }
   ],
   "source": [
    "#Step 6: Fitting KNN classifier to the training data\n",
    "from sklearn.neighbors import KNeighborsClassifier\n",
    "classifier=KNeighborsClassifier(n_neighbors=5)\n",
    "classifier.fit(x_train,y_train)"
   ]
  },
  {
   "cell_type": "code",
   "execution_count": 12,
   "id": "681b8d5d",
   "metadata": {},
   "outputs": [
    {
     "name": "stdout",
     "output_type": "stream",
     "text": [
      "['B' 'M' 'B' 'M' 'B' 'M' 'M' 'M' 'B' 'B' 'B' 'M' 'M' 'B' 'B' 'B' 'B' 'B'\n",
      " 'B' 'M' 'B' 'B' 'M' 'B' 'M' 'B' 'B' 'M' 'M' 'M' 'M' 'B' 'M' 'M' 'B' 'B'\n",
      " 'M' 'B' 'B' 'B' 'B' 'B' 'B' 'B' 'B' 'M' 'B' 'B' 'B' 'M' 'M' 'M' 'B' 'B'\n",
      " 'B' 'B' 'B' 'M' 'B' 'B' 'B' 'M' 'B' 'B' 'B' 'B' 'B' 'M' 'B' 'B' 'B' 'B'\n",
      " 'B' 'M' 'B' 'M' 'B' 'B' 'B' 'M' 'B' 'M' 'B' 'M' 'B' 'B' 'M' 'B' 'M' 'B'\n",
      " 'B' 'M' 'B' 'B' 'M' 'M' 'B' 'B' 'B' 'B' 'B' 'B' 'B' 'B' 'B' 'B' 'B' 'B'\n",
      " 'M' 'M' 'M' 'B' 'B' 'B']\n"
     ]
    }
   ],
   "source": [
    "##Step 7: Predicting the Test Result:\n",
    "##To predict the test result we will create a y_pred vector\n",
    "y_pred=classifier.predict(x_test)\n",
    "print(y_pred)"
   ]
  },
  {
   "cell_type": "code",
   "execution_count": 14,
   "id": "67670d72",
   "metadata": {},
   "outputs": [
    {
     "name": "stdout",
     "output_type": "stream",
     "text": [
      "[[72  0]\n",
      " [ 5 37]]\n"
     ]
    }
   ],
   "source": [
    "#Step 8: Creating the confusion matrix to evaluate the accuracy of the classifier\n",
    "from sklearn.metrics import confusion_matrix\n",
    "cm=confusion_matrix (y_test,y_pred,labels=classifier.classes_)\n",
    "print(cm)"
   ]
  },
  {
   "cell_type": "code",
   "execution_count": 16,
   "id": "782209b6",
   "metadata": {},
   "outputs": [
    {
     "data": {
      "text/plain": [
       "<sklearn.metrics._plot.confusion_matrix.ConfusionMatrixDisplay at 0x7fa79f928c10>"
      ]
     },
     "execution_count": 16,
     "metadata": {},
     "output_type": "execute_result"
    },
    {
     "data": {
      "image/png": "[encoded data removed]",
      "text/plain": [
       "<Figure size 432x288 with 2 Axes>"
      ]
     },
     "metadata": {
      "needs_background": "light"
     },
     "output_type": "display_data"
    }
   ],
   "source": [
    "##Confusion Matrix Display\n",
    "from sklearn.metrics import ConfusionMatrixDisplay\n",
    "disp=ConfusionMatrixDisplay(confusion_matrix=cm,display_labels=classifier.classes_)\n",
    "disp.plot()"
   ]
  },
  {
   "cell_type": "code",
   "execution_count": 18,
   "id": "375a369a",
   "metadata": {},
   "outputs": [
    {
     "name": "stdout",
     "output_type": "stream",
     "text": [
      "0.9868131868131869\n",
      "0.956140350877193\n"
     ]
    }
   ],
   "source": [
    "##Classifier Accuracy\n",
    "training_score=classifier.score(x_train,y_train)\n",
    "test_score=classifier.score(x_test,y_test)\n",
    "print(training_score)\n",
    "print(test_score)"
   ]
  },
  {
   "cell_type": "code",
   "execution_count": 28,
   "id": "700931a2",
   "metadata": {},
   "outputs": [],
   "source": [
    "#Now we can try different values of k to check the accuracy\n",
    "K=[]\n",
    "training=[]\n",
    "test=[]\n",
    "scores={}\n",
    "\n",
    "for k in range(2,22):\n",
    "    clf=KNeighborsClassifier(n_neighbors=k)\n",
    "    clf.fit(x_train,y_train)\n",
    "    \n",
    "    training_score=clf.score(x_train,y_train)\n",
    "    test_score=clf.score(x_test,y_test)\n",
    "    K.append(k)\n",
    "    \n",
    "    training.append(training_score)\n",
    "    test.append(test_score)\n",
    "    scores[k]=[training_score,test_score]\n",
    "    "
   ]
  },
  {
   "cell_type": "code",
   "execution_count": 29,
   "id": "9b4e1e25",
   "metadata": {},
   "outputs": [
    {
     "name": "stdout",
     "output_type": "stream",
     "text": [
      "2 : [0.9824175824175824, 0.956140350877193]\n",
      "3 : [0.9824175824175824, 0.9473684210526315]\n",
      "4 : [0.9824175824175824, 0.956140350877193]\n",
      "5 : [0.9868131868131869, 0.956140350877193]\n",
      "6 : [0.978021978021978, 0.956140350877193]\n",
      "7 : [0.9802197802197802, 0.9649122807017544]\n",
      "8 : [0.9802197802197802, 0.956140350877193]\n",
      "9 : [0.9824175824175824, 0.956140350877193]\n",
      "10 : [0.978021978021978, 0.956140350877193]\n",
      "11 : [0.9802197802197802, 0.956140350877193]\n",
      "12 : [0.9736263736263736, 0.956140350877193]\n",
      "13 : [0.9758241758241758, 0.956140350877193]\n",
      "14 : [0.9736263736263736, 0.956140350877193]\n",
      "15 : [0.9758241758241758, 0.956140350877193]\n",
      "16 : [0.9714285714285714, 0.956140350877193]\n",
      "17 : [0.9714285714285714, 0.9473684210526315]\n",
      "18 : [0.967032967032967, 0.956140350877193]\n",
      "19 : [0.9714285714285714, 0.956140350877193]\n",
      "20 : [0.9714285714285714, 0.956140350877193]\n",
      "21 : [0.9714285714285714, 0.9385964912280702]\n"
     ]
    }
   ],
   "source": [
    "#Evaluating the model\n",
    "for keys,values in scores.items():\n",
    "    print(keys,':',values)"
   ]
  },
  {
   "cell_type": "code",
   "execution_count": 30,
   "id": "8d4dde82",
   "metadata": {},
   "outputs": [
    {
     "data": {
      "image/png": "[encoded data removed]",
      "text/plain": [
       "<Figure size 432x288 with 1 Axes>"
      ]
     },
     "metadata": {
      "needs_background": "light"
     },
     "output_type": "display_data"
    }
   ],
   "source": [
    "##Visualization\n",
    "import matplotlib.pyplot as plt\n",
    "plt.scatter(K,training,color='r')\n",
    "plt.scatter(K,test,color='g')\n",
    "plt.show()"
   ]
  }
 ],
 "metadata": {
  "kernelspec": {
   "display_name": "Python 3 (ipykernel)",
   "language": "python",
   "name": "python3"
  },
  "language_info": {
   "codemirror_mode": {
    "name": "ipython",
    "version": 3
   },
   "file_extension": ".py",
   "mimetype": "text/x-python",
   "name": "python",
   "nbconvert_exporter": "python",
   "pygments_lexer": "ipython3",
   "version": "3.9.12"
  }
 },
 "nbformat": 4,
 "nbformat_minor": 5
}
